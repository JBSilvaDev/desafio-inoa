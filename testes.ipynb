{
 "cells": [
  {
   "cell_type": "code",
   "execution_count": null,
   "metadata": {},
   "outputs": [],
   "source": [
    "nome = ''\n",
    "email = 'jb@.com'\n",
    "\n",
    "if len(nome.strip()) == 0 or len(email.strip()) == 0:\n",
    "  print('vazio')\n",
    "else:\n",
    "  print('nao vazio')"
   ]
  },
  {
   "cell_type": "code",
   "execution_count": null,
   "metadata": {},
   "outputs": [],
   "source": [
    "import yfinance as yf\n",
    "import plotly.express as px\n",
    "\n",
    "acao = 'CIEL3'\n",
    "\n",
    "\"\"\"\n",
    "period : str\n",
    "    Valid periods: 1d,5d,1mo,3mo,6mo,1y,2y,5y,10y,ytd,max\n",
    "    Either Use period parameter or use start and end\n",
    "interval : str\n",
    "    Valid intervals: 1m,2m,5m,15m,30m,60m,90m,1h,1d,5d,1wk,1mo,3mo\n",
    "    Intraday data cannot extend last 60 days\n",
    "\"\"\"\n",
    "msft = yf.Ticker(f'{acao}.SA')\n",
    "df = msft.history(period = \"1d\", interval=\"5m\")\n",
    "df = df.reset_index()\n",
    "\n",
    "df['Volume']"
   ]
  },
  {
   "cell_type": "code",
   "execution_count": null,
   "metadata": {},
   "outputs": [],
   "source": [
    "a = 10\n",
    "print(f'{10/100:.1%}')"
   ]
  },
  {
   "cell_type": "code",
   "execution_count": null,
   "metadata": {},
   "outputs": [],
   "source": [
    "# A tabela com a lista de ações está na posição 2\n",
    "lista_acoes = tabelas['Código']\n",
    "\n",
    "# Exibe a coluna de símbolos\n",
    "tickers = lista_acoes['Código'].tolist()\n",
    "print(tickers)"
   ]
  },
  {
   "cell_type": "code",
   "execution_count": null,
   "metadata": {},
   "outputs": [],
   "source": [
    "import requests\n",
    "\n",
    "# URL da página que contém a lista de ações da Ibovespa\n",
    "url = 'http://bvmf.bmfbovespa.com.br/indices/ResumoCarteiraTeorica.aspx?Indice=IBOV&idioma=pt-br'\n",
    "\n",
    "# Faz o request para obter o conteúdo HTML da página\n",
    "response = requests.get(url)\n",
    "\n",
    "for i in tickers[1:]:\n",
    "  print(i)\n",
    "print(len(tickers))"
   ]
  },
  {
   "cell_type": "code",
   "execution_count": null,
   "metadata": {},
   "outputs": [],
   "source": [
    "import requests\n",
    "from bs4 import BeautifulSoup\n",
    "\n",
    "# URL da página que contém a lista de ações da Ibovespa\n",
    "url = 'http://bvmf.bmfbovespa.com.br/indices/ResumoCarteiraTeorica.aspx?Indice=IBOV&idioma=pt-br'\n",
    "\n",
    "# Faz o request para obter o conteúdo HTML da página\n",
    "response = requests.get(url)\n",
    "\n",
    "# Verifica se a requisição foi bem-sucedida\n",
    "if response.status_code == 200:\n",
    "    # Parseia o conteúdo HTML com o BeautifulSoup\n",
    "    soup = BeautifulSoup(response.text, 'html.parser')\n",
    "\n",
    "    # Encontra a tabela que contém a lista de ações\n",
    "    table = soup.find('table', {'class': 'rgMasterTable'})\n",
    "\n",
    "    # Extrai os símbolos (tickers) das ações\n",
    "    tickers = [row.find_all('td')[0].text.strip() for row in table.find_all('tr')[1:]]\n",
    "    # Exibe a lista de tickers\n",
    "    for i in tickers[1:]:\n",
    "      print(i)\n",
    "\n",
    "else:\n",
    "    print('Erro ao acessar a página:', response.status_code)\n"
   ]
  },
  {
   "cell_type": "code",
   "execution_count": null,
   "metadata": {},
   "outputs": [],
   "source": [
    "import requests\n",
    "from bs4 import BeautifulSoup\n",
    "\n",
    "# URL da página que contém a lista de ações da Ibovespa\n",
    "url = 'http://bvmf.bmfbovespa.com.br/indices/ResumoCarteiraTeorica.aspx?Indice=IBOV&idioma=pt-br'\n",
    "\n",
    "# Faz o request para obter o conteúdo HTML da página\n",
    "response = requests.get(url)\n",
    "\n",
    "# Verifica se a requisição foi bem-sucedida\n",
    "if response.status_code == 200:\n",
    "    # Parseia o conteúdo HTML com o BeautifulSoup\n",
    "    soup = BeautifulSoup(response.text, 'html.parser')\n",
    "\n",
    "    # Encontra a tabela que contém a lista de ações\n",
    "    table = soup.find('table', {'class': 'rgMasterTable'})\n",
    "\n",
    "    # Extrai os símbolos (tickers) das ações\n",
    "    tickers = [row.find_all('td')[0].text.strip() for row in table.find_all('tr')[1:]]\n",
    "    # Exibe a lista de tickers\n",
    "    for i in tickers[1:]:\n",
    "      print(i)\n",
    "\n",
    "else:\n",
    "    print('Erro ao acessar a página:', response.status_code)\n"
   ]
  }
 ],
 "metadata": {
  "kernelspec": {
   "display_name": "venv",
   "language": "python",
   "name": "python3"
  },
  "language_info": {
   "codemirror_mode": {
    "name": "ipython",
    "version": 3
   },
   "file_extension": ".py",
   "mimetype": "text/x-python",
   "name": "python",
   "nbconvert_exporter": "python",
   "pygments_lexer": "ipython3",
   "version": "3.12.0"
  }
 },
 "nbformat": 4,
 "nbformat_minor": 2
}
