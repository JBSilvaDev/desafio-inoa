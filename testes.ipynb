{
 "cells": [
  {
   "cell_type": "code",
   "execution_count": 3,
   "metadata": {},
   "outputs": [
    {
     "name": "stdout",
     "output_type": "stream",
     "text": [
      "vazio\n",
      "\n",
      "jb@.com\n"
     ]
    }
   ],
   "source": [
    "nome = ''\n",
    "email = 'jb@.com'\n",
    "\n",
    "if len(nome.strip()) == 0 or len(email.strip()) == 0:\n",
    "  print('vazio')\n",
    "else:\n",
    "  print('nao vazio')"
   ]
  },
  {
   "cell_type": "code",
   "execution_count": 5,
   "metadata": {},
   "outputs": [
    {
     "ename": "ValueError",
     "evalue": "Mime type rendering requires nbformat>=4.2.0 but it is not installed",
     "output_type": "error",
     "traceback": [
      "\u001b[1;31m---------------------------------------------------------------------------\u001b[0m",
      "\u001b[1;31mValueError\u001b[0m                                Traceback (most recent call last)",
      "File \u001b[1;32ma:\\Area Dev\\desafio-inoa\\venv\\Lib\\site-packages\\IPython\\core\\formatters.py:922\u001b[0m, in \u001b[0;36mIPythonDisplayFormatter.__call__\u001b[1;34m(self, obj)\u001b[0m\n\u001b[0;32m    920\u001b[0m method \u001b[38;5;241m=\u001b[39m get_real_method(obj, \u001b[38;5;28mself\u001b[39m\u001b[38;5;241m.\u001b[39mprint_method)\n\u001b[0;32m    921\u001b[0m \u001b[38;5;28;01mif\u001b[39;00m method \u001b[38;5;129;01mis\u001b[39;00m \u001b[38;5;129;01mnot\u001b[39;00m \u001b[38;5;28;01mNone\u001b[39;00m:\n\u001b[1;32m--> 922\u001b[0m     \u001b[43mmethod\u001b[49m\u001b[43m(\u001b[49m\u001b[43m)\u001b[49m\n\u001b[0;32m    923\u001b[0m     \u001b[38;5;28;01mreturn\u001b[39;00m \u001b[38;5;28;01mTrue\u001b[39;00m\n",
      "File \u001b[1;32ma:\\Area Dev\\desafio-inoa\\venv\\Lib\\site-packages\\plotly\\basedatatypes.py:832\u001b[0m, in \u001b[0;36mBaseFigure._ipython_display_\u001b[1;34m(self)\u001b[0m\n\u001b[0;32m    829\u001b[0m \u001b[38;5;28;01mimport\u001b[39;00m \u001b[38;5;21;01mplotly\u001b[39;00m\u001b[38;5;21;01m.\u001b[39;00m\u001b[38;5;21;01mio\u001b[39;00m \u001b[38;5;28;01mas\u001b[39;00m \u001b[38;5;21;01mpio\u001b[39;00m\n\u001b[0;32m    831\u001b[0m \u001b[38;5;28;01mif\u001b[39;00m pio\u001b[38;5;241m.\u001b[39mrenderers\u001b[38;5;241m.\u001b[39mrender_on_display \u001b[38;5;129;01mand\u001b[39;00m pio\u001b[38;5;241m.\u001b[39mrenderers\u001b[38;5;241m.\u001b[39mdefault:\n\u001b[1;32m--> 832\u001b[0m     \u001b[43mpio\u001b[49m\u001b[38;5;241;43m.\u001b[39;49m\u001b[43mshow\u001b[49m\u001b[43m(\u001b[49m\u001b[38;5;28;43mself\u001b[39;49m\u001b[43m)\u001b[49m\n\u001b[0;32m    833\u001b[0m \u001b[38;5;28;01melse\u001b[39;00m:\n\u001b[0;32m    834\u001b[0m     \u001b[38;5;28mprint\u001b[39m(\u001b[38;5;28mrepr\u001b[39m(\u001b[38;5;28mself\u001b[39m))\n",
      "File \u001b[1;32ma:\\Area Dev\\desafio-inoa\\venv\\Lib\\site-packages\\plotly\\io\\_renderers.py:394\u001b[0m, in \u001b[0;36mshow\u001b[1;34m(fig, renderer, validate, **kwargs)\u001b[0m\n\u001b[0;32m    389\u001b[0m         \u001b[38;5;28;01mraise\u001b[39;00m \u001b[38;5;167;01mValueError\u001b[39;00m(\n\u001b[0;32m    390\u001b[0m             \u001b[38;5;124m\"\u001b[39m\u001b[38;5;124mMime type rendering requires ipython but it is not installed\u001b[39m\u001b[38;5;124m\"\u001b[39m\n\u001b[0;32m    391\u001b[0m         )\n\u001b[0;32m    393\u001b[0m     \u001b[38;5;28;01mif\u001b[39;00m \u001b[38;5;129;01mnot\u001b[39;00m nbformat \u001b[38;5;129;01mor\u001b[39;00m Version(nbformat\u001b[38;5;241m.\u001b[39m__version__) \u001b[38;5;241m<\u001b[39m Version(\u001b[38;5;124m\"\u001b[39m\u001b[38;5;124m4.2.0\u001b[39m\u001b[38;5;124m\"\u001b[39m):\n\u001b[1;32m--> 394\u001b[0m         \u001b[38;5;28;01mraise\u001b[39;00m \u001b[38;5;167;01mValueError\u001b[39;00m(\n\u001b[0;32m    395\u001b[0m             \u001b[38;5;124m\"\u001b[39m\u001b[38;5;124mMime type rendering requires nbformat>=4.2.0 but it is not installed\u001b[39m\u001b[38;5;124m\"\u001b[39m\n\u001b[0;32m    396\u001b[0m         )\n\u001b[0;32m    398\u001b[0m     ipython_display\u001b[38;5;241m.\u001b[39mdisplay(bundle, raw\u001b[38;5;241m=\u001b[39m\u001b[38;5;28;01mTrue\u001b[39;00m)\n\u001b[0;32m    400\u001b[0m \u001b[38;5;66;03m# external renderers\u001b[39;00m\n",
      "\u001b[1;31mValueError\u001b[0m: Mime type rendering requires nbformat>=4.2.0 but it is not installed"
     ]
    },
    {
     "data": {
      "application/vnd.plotly.v1+json": {
       "config": {
        "plotlyServerURL": "https://plot.ly"
       },
       "data": [
        {
         "hovertemplate": "Datetime=%{x}<br>Close=%{y}<extra></extra>",
         "legendgroup": "",
         "line": {
          "color": "#636efa",
          "dash": "solid"
         },
         "marker": {
          "symbol": "circle"
         },
         "mode": "markers+lines",
         "name": "",
         "orientation": "v",
         "showlegend": false,
         "type": "scatter",
         "x": [
          "2023-12-15T10:00:00-03:00",
          "2023-12-15T10:05:00-03:00",
          "2023-12-15T10:10:00-03:00",
          "2023-12-15T10:15:00-03:00",
          "2023-12-15T10:20:00-03:00",
          "2023-12-15T10:25:00-03:00",
          "2023-12-15T10:30:00-03:00",
          "2023-12-15T10:35:00-03:00",
          "2023-12-15T10:40:00-03:00",
          "2023-12-15T10:45:00-03:00",
          "2023-12-15T10:50:00-03:00",
          "2023-12-15T10:55:00-03:00",
          "2023-12-15T11:00:00-03:00",
          "2023-12-15T11:05:00-03:00",
          "2023-12-15T11:10:00-03:00",
          "2023-12-15T11:15:00-03:00",
          "2023-12-15T11:20:00-03:00",
          "2023-12-15T11:25:00-03:00",
          "2023-12-15T11:30:00-03:00",
          "2023-12-15T11:35:00-03:00",
          "2023-12-15T11:40:00-03:00",
          "2023-12-15T11:45:00-03:00",
          "2023-12-15T11:50:00-03:00",
          "2023-12-15T11:55:00-03:00",
          "2023-12-15T12:00:00-03:00",
          "2023-12-15T12:05:00-03:00",
          "2023-12-15T12:10:00-03:00",
          "2023-12-15T12:15:00-03:00",
          "2023-12-15T12:20:00-03:00",
          "2023-12-15T12:25:00-03:00",
          "2023-12-15T12:30:00-03:00",
          "2023-12-15T12:35:00-03:00",
          "2023-12-15T12:40:00-03:00",
          "2023-12-15T12:45:00-03:00",
          "2023-12-15T12:50:00-03:00",
          "2023-12-15T12:55:00-03:00",
          "2023-12-15T13:00:00-03:00",
          "2023-12-15T13:05:00-03:00",
          "2023-12-15T13:10:00-03:00",
          "2023-12-15T13:15:00-03:00",
          "2023-12-15T13:20:00-03:00",
          "2023-12-15T13:25:00-03:00",
          "2023-12-15T13:30:00-03:00",
          "2023-12-15T13:35:00-03:00",
          "2023-12-15T13:40:00-03:00",
          "2023-12-15T13:45:00-03:00",
          "2023-12-15T13:50:00-03:00",
          "2023-12-15T13:55:00-03:00",
          "2023-12-15T14:00:00-03:00",
          "2023-12-15T14:05:00-03:00",
          "2023-12-15T14:10:00-03:00",
          "2023-12-15T14:15:00-03:00",
          "2023-12-15T14:20:00-03:00",
          "2023-12-15T14:25:00-03:00",
          "2023-12-15T14:30:00-03:00",
          "2023-12-15T14:35:00-03:00",
          "2023-12-15T14:40:00-03:00",
          "2023-12-15T14:45:00-03:00",
          "2023-12-15T14:50:00-03:00",
          "2023-12-15T14:55:00-03:00",
          "2023-12-15T15:00:00-03:00",
          "2023-12-15T15:05:00-03:00",
          "2023-12-15T15:10:00-03:00",
          "2023-12-15T15:15:00-03:00",
          "2023-12-15T15:20:00-03:00",
          "2023-12-15T15:25:00-03:00",
          "2023-12-15T15:30:00-03:00",
          "2023-12-15T15:35:00-03:00",
          "2023-12-15T15:40:00-03:00",
          "2023-12-15T15:45:00-03:00",
          "2023-12-15T15:50:00-03:00",
          "2023-12-15T15:55:00-03:00",
          "2023-12-15T16:00:00-03:00",
          "2023-12-15T16:05:00-03:00",
          "2023-12-15T16:10:00-03:00",
          "2023-12-15T16:15:00-03:00",
          "2023-12-15T16:20:00-03:00",
          "2023-12-15T16:25:00-03:00",
          "2023-12-15T16:30:00-03:00",
          "2023-12-15T16:35:00-03:00",
          "2023-12-15T16:40:00-03:00",
          "2023-12-15T16:45:00-03:00",
          "2023-12-15T16:50:00-03:00",
          "2023-12-15T16:55:00-03:00"
         ],
         "xaxis": "x",
         "y": [
          4.460000038146973,
          4.489999771118164,
          4.480000019073486,
          4.489999771118164,
          4.489999771118164,
          4.519999980926514,
          4.489999771118164,
          4.489999771118164,
          4.480000019073486,
          4.480000019073486,
          4.489999771118164,
          4.489999771118164,
          4.46999979019165,
          4.46999979019165,
          4.460000038146973,
          4.460000038146973,
          4.460000038146973,
          4.440000057220459,
          4.460000038146973,
          4.460000038146973,
          4.489999771118164,
          4.489999771118164,
          4.480000019073486,
          4.460000038146973,
          4.460000038146973,
          4.5,
          4.53000020980835,
          4.5,
          4.5,
          4.5,
          4.510000228881836,
          4.510000228881836,
          4.5,
          4.510000228881836,
          4.53000020980835,
          4.510000228881836,
          4.519999980926514,
          4.53000020980835,
          4.510000228881836,
          4.539999961853027,
          4.53000020980835,
          4.539999961853027,
          4.53000020980835,
          4.53000020980835,
          4.519999980926514,
          4.5,
          4.5,
          4.5,
          4.489999771118164,
          4.489999771118164,
          4.550000190734863,
          4.519999980926514,
          4.519999980926514,
          4.519999980926514,
          4.53000020980835,
          4.53000020980835,
          4.539999961853027,
          4.559999942779541,
          4.550000190734863,
          4.550000190734863,
          4.570000171661377,
          4.550000190734863,
          4.550000190734863,
          4.539999961853027,
          4.539999961853027,
          4.539999961853027,
          4.539999961853027,
          4.53000020980835,
          4.53000020980835,
          4.539999961853027,
          4.519999980926514,
          4.519999980926514,
          4.519999980926514,
          4.53000020980835,
          4.53000020980835,
          4.519999980926514,
          4.510000228881836,
          4.519999980926514,
          4.53000020980835,
          4.510000228881836,
          4.519999980926514,
          4.53000020980835,
          4.53000020980835,
          4.53000020980835
         ],
         "yaxis": "y"
        }
       ],
       "layout": {
        "legend": {
         "tracegroupgap": 0
        },
        "template": {
         "data": {
          "bar": [
           {
            "error_x": {
             "color": "#2a3f5f"
            },
            "error_y": {
             "color": "#2a3f5f"
            },
            "marker": {
             "line": {
              "color": "#E5ECF6",
              "width": 0.5
             },
             "pattern": {
              "fillmode": "overlay",
              "size": 10,
              "solidity": 0.2
             }
            },
            "type": "bar"
           }
          ],
          "barpolar": [
           {
            "marker": {
             "line": {
              "color": "#E5ECF6",
              "width": 0.5
             },
             "pattern": {
              "fillmode": "overlay",
              "size": 10,
              "solidity": 0.2
             }
            },
            "type": "barpolar"
           }
          ],
          "carpet": [
           {
            "aaxis": {
             "endlinecolor": "#2a3f5f",
             "gridcolor": "white",
             "linecolor": "white",
             "minorgridcolor": "white",
             "startlinecolor": "#2a3f5f"
            },
            "baxis": {
             "endlinecolor": "#2a3f5f",
             "gridcolor": "white",
             "linecolor": "white",
             "minorgridcolor": "white",
             "startlinecolor": "#2a3f5f"
            },
            "type": "carpet"
           }
          ],
          "choropleth": [
           {
            "colorbar": {
             "outlinewidth": 0,
             "ticks": ""
            },
            "type": "choropleth"
           }
          ],
          "contour": [
           {
            "colorbar": {
             "outlinewidth": 0,
             "ticks": ""
            },
            "colorscale": [
             [
              0,
              "#0d0887"
             ],
             [
              0.1111111111111111,
              "#46039f"
             ],
             [
              0.2222222222222222,
              "#7201a8"
             ],
             [
              0.3333333333333333,
              "#9c179e"
             ],
             [
              0.4444444444444444,
              "#bd3786"
             ],
             [
              0.5555555555555556,
              "#d8576b"
             ],
             [
              0.6666666666666666,
              "#ed7953"
             ],
             [
              0.7777777777777778,
              "#fb9f3a"
             ],
             [
              0.8888888888888888,
              "#fdca26"
             ],
             [
              1,
              "#f0f921"
             ]
            ],
            "type": "contour"
           }
          ],
          "contourcarpet": [
           {
            "colorbar": {
             "outlinewidth": 0,
             "ticks": ""
            },
            "type": "contourcarpet"
           }
          ],
          "heatmap": [
           {
            "colorbar": {
             "outlinewidth": 0,
             "ticks": ""
            },
            "colorscale": [
             [
              0,
              "#0d0887"
             ],
             [
              0.1111111111111111,
              "#46039f"
             ],
             [
              0.2222222222222222,
              "#7201a8"
             ],
             [
              0.3333333333333333,
              "#9c179e"
             ],
             [
              0.4444444444444444,
              "#bd3786"
             ],
             [
              0.5555555555555556,
              "#d8576b"
             ],
             [
              0.6666666666666666,
              "#ed7953"
             ],
             [
              0.7777777777777778,
              "#fb9f3a"
             ],
             [
              0.8888888888888888,
              "#fdca26"
             ],
             [
              1,
              "#f0f921"
             ]
            ],
            "type": "heatmap"
           }
          ],
          "heatmapgl": [
           {
            "colorbar": {
             "outlinewidth": 0,
             "ticks": ""
            },
            "colorscale": [
             [
              0,
              "#0d0887"
             ],
             [
              0.1111111111111111,
              "#46039f"
             ],
             [
              0.2222222222222222,
              "#7201a8"
             ],
             [
              0.3333333333333333,
              "#9c179e"
             ],
             [
              0.4444444444444444,
              "#bd3786"
             ],
             [
              0.5555555555555556,
              "#d8576b"
             ],
             [
              0.6666666666666666,
              "#ed7953"
             ],
             [
              0.7777777777777778,
              "#fb9f3a"
             ],
             [
              0.8888888888888888,
              "#fdca26"
             ],
             [
              1,
              "#f0f921"
             ]
            ],
            "type": "heatmapgl"
           }
          ],
          "histogram": [
           {
            "marker": {
             "pattern": {
              "fillmode": "overlay",
              "size": 10,
              "solidity": 0.2
             }
            },
            "type": "histogram"
           }
          ],
          "histogram2d": [
           {
            "colorbar": {
             "outlinewidth": 0,
             "ticks": ""
            },
            "colorscale": [
             [
              0,
              "#0d0887"
             ],
             [
              0.1111111111111111,
              "#46039f"
             ],
             [
              0.2222222222222222,
              "#7201a8"
             ],
             [
              0.3333333333333333,
              "#9c179e"
             ],
             [
              0.4444444444444444,
              "#bd3786"
             ],
             [
              0.5555555555555556,
              "#d8576b"
             ],
             [
              0.6666666666666666,
              "#ed7953"
             ],
             [
              0.7777777777777778,
              "#fb9f3a"
             ],
             [
              0.8888888888888888,
              "#fdca26"
             ],
             [
              1,
              "#f0f921"
             ]
            ],
            "type": "histogram2d"
           }
          ],
          "histogram2dcontour": [
           {
            "colorbar": {
             "outlinewidth": 0,
             "ticks": ""
            },
            "colorscale": [
             [
              0,
              "#0d0887"
             ],
             [
              0.1111111111111111,
              "#46039f"
             ],
             [
              0.2222222222222222,
              "#7201a8"
             ],
             [
              0.3333333333333333,
              "#9c179e"
             ],
             [
              0.4444444444444444,
              "#bd3786"
             ],
             [
              0.5555555555555556,
              "#d8576b"
             ],
             [
              0.6666666666666666,
              "#ed7953"
             ],
             [
              0.7777777777777778,
              "#fb9f3a"
             ],
             [
              0.8888888888888888,
              "#fdca26"
             ],
             [
              1,
              "#f0f921"
             ]
            ],
            "type": "histogram2dcontour"
           }
          ],
          "mesh3d": [
           {
            "colorbar": {
             "outlinewidth": 0,
             "ticks": ""
            },
            "type": "mesh3d"
           }
          ],
          "parcoords": [
           {
            "line": {
             "colorbar": {
              "outlinewidth": 0,
              "ticks": ""
             }
            },
            "type": "parcoords"
           }
          ],
          "pie": [
           {
            "automargin": true,
            "type": "pie"
           }
          ],
          "scatter": [
           {
            "fillpattern": {
             "fillmode": "overlay",
             "size": 10,
             "solidity": 0.2
            },
            "type": "scatter"
           }
          ],
          "scatter3d": [
           {
            "line": {
             "colorbar": {
              "outlinewidth": 0,
              "ticks": ""
             }
            },
            "marker": {
             "colorbar": {
              "outlinewidth": 0,
              "ticks": ""
             }
            },
            "type": "scatter3d"
           }
          ],
          "scattercarpet": [
           {
            "marker": {
             "colorbar": {
              "outlinewidth": 0,
              "ticks": ""
             }
            },
            "type": "scattercarpet"
           }
          ],
          "scattergeo": [
           {
            "marker": {
             "colorbar": {
              "outlinewidth": 0,
              "ticks": ""
             }
            },
            "type": "scattergeo"
           }
          ],
          "scattergl": [
           {
            "marker": {
             "colorbar": {
              "outlinewidth": 0,
              "ticks": ""
             }
            },
            "type": "scattergl"
           }
          ],
          "scattermapbox": [
           {
            "marker": {
             "colorbar": {
              "outlinewidth": 0,
              "ticks": ""
             }
            },
            "type": "scattermapbox"
           }
          ],
          "scatterpolar": [
           {
            "marker": {
             "colorbar": {
              "outlinewidth": 0,
              "ticks": ""
             }
            },
            "type": "scatterpolar"
           }
          ],
          "scatterpolargl": [
           {
            "marker": {
             "colorbar": {
              "outlinewidth": 0,
              "ticks": ""
             }
            },
            "type": "scatterpolargl"
           }
          ],
          "scatterternary": [
           {
            "marker": {
             "colorbar": {
              "outlinewidth": 0,
              "ticks": ""
             }
            },
            "type": "scatterternary"
           }
          ],
          "surface": [
           {
            "colorbar": {
             "outlinewidth": 0,
             "ticks": ""
            },
            "colorscale": [
             [
              0,
              "#0d0887"
             ],
             [
              0.1111111111111111,
              "#46039f"
             ],
             [
              0.2222222222222222,
              "#7201a8"
             ],
             [
              0.3333333333333333,
              "#9c179e"
             ],
             [
              0.4444444444444444,
              "#bd3786"
             ],
             [
              0.5555555555555556,
              "#d8576b"
             ],
             [
              0.6666666666666666,
              "#ed7953"
             ],
             [
              0.7777777777777778,
              "#fb9f3a"
             ],
             [
              0.8888888888888888,
              "#fdca26"
             ],
             [
              1,
              "#f0f921"
             ]
            ],
            "type": "surface"
           }
          ],
          "table": [
           {
            "cells": {
             "fill": {
              "color": "#EBF0F8"
             },
             "line": {
              "color": "white"
             }
            },
            "header": {
             "fill": {
              "color": "#C8D4E3"
             },
             "line": {
              "color": "white"
             }
            },
            "type": "table"
           }
          ]
         },
         "layout": {
          "annotationdefaults": {
           "arrowcolor": "#2a3f5f",
           "arrowhead": 0,
           "arrowwidth": 1
          },
          "autotypenumbers": "strict",
          "coloraxis": {
           "colorbar": {
            "outlinewidth": 0,
            "ticks": ""
           }
          },
          "colorscale": {
           "diverging": [
            [
             0,
             "#8e0152"
            ],
            [
             0.1,
             "#c51b7d"
            ],
            [
             0.2,
             "#de77ae"
            ],
            [
             0.3,
             "#f1b6da"
            ],
            [
             0.4,
             "#fde0ef"
            ],
            [
             0.5,
             "#f7f7f7"
            ],
            [
             0.6,
             "#e6f5d0"
            ],
            [
             0.7,
             "#b8e186"
            ],
            [
             0.8,
             "#7fbc41"
            ],
            [
             0.9,
             "#4d9221"
            ],
            [
             1,
             "#276419"
            ]
           ],
           "sequential": [
            [
             0,
             "#0d0887"
            ],
            [
             0.1111111111111111,
             "#46039f"
            ],
            [
             0.2222222222222222,
             "#7201a8"
            ],
            [
             0.3333333333333333,
             "#9c179e"
            ],
            [
             0.4444444444444444,
             "#bd3786"
            ],
            [
             0.5555555555555556,
             "#d8576b"
            ],
            [
             0.6666666666666666,
             "#ed7953"
            ],
            [
             0.7777777777777778,
             "#fb9f3a"
            ],
            [
             0.8888888888888888,
             "#fdca26"
            ],
            [
             1,
             "#f0f921"
            ]
           ],
           "sequentialminus": [
            [
             0,
             "#0d0887"
            ],
            [
             0.1111111111111111,
             "#46039f"
            ],
            [
             0.2222222222222222,
             "#7201a8"
            ],
            [
             0.3333333333333333,
             "#9c179e"
            ],
            [
             0.4444444444444444,
             "#bd3786"
            ],
            [
             0.5555555555555556,
             "#d8576b"
            ],
            [
             0.6666666666666666,
             "#ed7953"
            ],
            [
             0.7777777777777778,
             "#fb9f3a"
            ],
            [
             0.8888888888888888,
             "#fdca26"
            ],
            [
             1,
             "#f0f921"
            ]
           ]
          },
          "colorway": [
           "#636efa",
           "#EF553B",
           "#00cc96",
           "#ab63fa",
           "#FFA15A",
           "#19d3f3",
           "#FF6692",
           "#B6E880",
           "#FF97FF",
           "#FECB52"
          ],
          "font": {
           "color": "#2a3f5f"
          },
          "geo": {
           "bgcolor": "white",
           "lakecolor": "white",
           "landcolor": "#E5ECF6",
           "showlakes": true,
           "showland": true,
           "subunitcolor": "white"
          },
          "hoverlabel": {
           "align": "left"
          },
          "hovermode": "closest",
          "mapbox": {
           "style": "light"
          },
          "paper_bgcolor": "white",
          "plot_bgcolor": "#E5ECF6",
          "polar": {
           "angularaxis": {
            "gridcolor": "white",
            "linecolor": "white",
            "ticks": ""
           },
           "bgcolor": "#E5ECF6",
           "radialaxis": {
            "gridcolor": "white",
            "linecolor": "white",
            "ticks": ""
           }
          },
          "scene": {
           "xaxis": {
            "backgroundcolor": "#E5ECF6",
            "gridcolor": "white",
            "gridwidth": 2,
            "linecolor": "white",
            "showbackground": true,
            "ticks": "",
            "zerolinecolor": "white"
           },
           "yaxis": {
            "backgroundcolor": "#E5ECF6",
            "gridcolor": "white",
            "gridwidth": 2,
            "linecolor": "white",
            "showbackground": true,
            "ticks": "",
            "zerolinecolor": "white"
           },
           "zaxis": {
            "backgroundcolor": "#E5ECF6",
            "gridcolor": "white",
            "gridwidth": 2,
            "linecolor": "white",
            "showbackground": true,
            "ticks": "",
            "zerolinecolor": "white"
           }
          },
          "shapedefaults": {
           "line": {
            "color": "#2a3f5f"
           }
          },
          "ternary": {
           "aaxis": {
            "gridcolor": "white",
            "linecolor": "white",
            "ticks": ""
           },
           "baxis": {
            "gridcolor": "white",
            "linecolor": "white",
            "ticks": ""
           },
           "bgcolor": "#E5ECF6",
           "caxis": {
            "gridcolor": "white",
            "linecolor": "white",
            "ticks": ""
           }
          },
          "title": {
           "x": 0.05
          },
          "xaxis": {
           "automargin": true,
           "gridcolor": "white",
           "linecolor": "white",
           "ticks": "",
           "title": {
            "standoff": 15
           },
           "zerolinecolor": "white",
           "zerolinewidth": 2
          },
          "yaxis": {
           "automargin": true,
           "gridcolor": "white",
           "linecolor": "white",
           "ticks": "",
           "title": {
            "standoff": 15
           },
           "zerolinecolor": "white",
           "zerolinewidth": 2
          }
         }
        },
        "title": {
         "text": "<b>Dados de:</b> CIEL3"
        },
        "xaxis": {
         "anchor": "y",
         "domain": [
          0,
          1
         ],
         "title": {
          "text": "Datetime"
         }
        },
        "yaxis": {
         "anchor": "x",
         "domain": [
          0,
          1
         ],
         "title": {
          "text": "Close"
         }
        }
       }
      },
      "text/html": [
       "<div>                        <script type=\"text/javascript\">window.PlotlyConfig = {MathJaxConfig: 'local'};</script>\n",
       "        <script charset=\"utf-8\" src=\"https://cdn.plot.ly/plotly-2.27.0.min.js\"></script>                <div id=\"f76cc012-7c12-44f2-94cc-3f58ac992b1c\" class=\"plotly-graph-div\" style=\"height:100%; width:100%;\"></div>            <script type=\"text/javascript\">                                    window.PLOTLYENV=window.PLOTLYENV || {};                                    if (document.getElementById(\"f76cc012-7c12-44f2-94cc-3f58ac992b1c\")) {                    Plotly.newPlot(                        \"f76cc012-7c12-44f2-94cc-3f58ac992b1c\",                        [{\"hovertemplate\":\"Datetime=%{x}\\u003cbr\\u003eClose=%{y}\\u003cextra\\u003e\\u003c\\u002fextra\\u003e\",\"legendgroup\":\"\",\"line\":{\"color\":\"#636efa\",\"dash\":\"solid\"},\"marker\":{\"symbol\":\"circle\"},\"mode\":\"markers+lines\",\"name\":\"\",\"orientation\":\"v\",\"showlegend\":false,\"x\":[\"2023-12-15T10:00:00-03:00\",\"2023-12-15T10:05:00-03:00\",\"2023-12-15T10:10:00-03:00\",\"2023-12-15T10:15:00-03:00\",\"2023-12-15T10:20:00-03:00\",\"2023-12-15T10:25:00-03:00\",\"2023-12-15T10:30:00-03:00\",\"2023-12-15T10:35:00-03:00\",\"2023-12-15T10:40:00-03:00\",\"2023-12-15T10:45:00-03:00\",\"2023-12-15T10:50:00-03:00\",\"2023-12-15T10:55:00-03:00\",\"2023-12-15T11:00:00-03:00\",\"2023-12-15T11:05:00-03:00\",\"2023-12-15T11:10:00-03:00\",\"2023-12-15T11:15:00-03:00\",\"2023-12-15T11:20:00-03:00\",\"2023-12-15T11:25:00-03:00\",\"2023-12-15T11:30:00-03:00\",\"2023-12-15T11:35:00-03:00\",\"2023-12-15T11:40:00-03:00\",\"2023-12-15T11:45:00-03:00\",\"2023-12-15T11:50:00-03:00\",\"2023-12-15T11:55:00-03:00\",\"2023-12-15T12:00:00-03:00\",\"2023-12-15T12:05:00-03:00\",\"2023-12-15T12:10:00-03:00\",\"2023-12-15T12:15:00-03:00\",\"2023-12-15T12:20:00-03:00\",\"2023-12-15T12:25:00-03:00\",\"2023-12-15T12:30:00-03:00\",\"2023-12-15T12:35:00-03:00\",\"2023-12-15T12:40:00-03:00\",\"2023-12-15T12:45:00-03:00\",\"2023-12-15T12:50:00-03:00\",\"2023-12-15T12:55:00-03:00\",\"2023-12-15T13:00:00-03:00\",\"2023-12-15T13:05:00-03:00\",\"2023-12-15T13:10:00-03:00\",\"2023-12-15T13:15:00-03:00\",\"2023-12-15T13:20:00-03:00\",\"2023-12-15T13:25:00-03:00\",\"2023-12-15T13:30:00-03:00\",\"2023-12-15T13:35:00-03:00\",\"2023-12-15T13:40:00-03:00\",\"2023-12-15T13:45:00-03:00\",\"2023-12-15T13:50:00-03:00\",\"2023-12-15T13:55:00-03:00\",\"2023-12-15T14:00:00-03:00\",\"2023-12-15T14:05:00-03:00\",\"2023-12-15T14:10:00-03:00\",\"2023-12-15T14:15:00-03:00\",\"2023-12-15T14:20:00-03:00\",\"2023-12-15T14:25:00-03:00\",\"2023-12-15T14:30:00-03:00\",\"2023-12-15T14:35:00-03:00\",\"2023-12-15T14:40:00-03:00\",\"2023-12-15T14:45:00-03:00\",\"2023-12-15T14:50:00-03:00\",\"2023-12-15T14:55:00-03:00\",\"2023-12-15T15:00:00-03:00\",\"2023-12-15T15:05:00-03:00\",\"2023-12-15T15:10:00-03:00\",\"2023-12-15T15:15:00-03:00\",\"2023-12-15T15:20:00-03:00\",\"2023-12-15T15:25:00-03:00\",\"2023-12-15T15:30:00-03:00\",\"2023-12-15T15:35:00-03:00\",\"2023-12-15T15:40:00-03:00\",\"2023-12-15T15:45:00-03:00\",\"2023-12-15T15:50:00-03:00\",\"2023-12-15T15:55:00-03:00\",\"2023-12-15T16:00:00-03:00\",\"2023-12-15T16:05:00-03:00\",\"2023-12-15T16:10:00-03:00\",\"2023-12-15T16:15:00-03:00\",\"2023-12-15T16:20:00-03:00\",\"2023-12-15T16:25:00-03:00\",\"2023-12-15T16:30:00-03:00\",\"2023-12-15T16:35:00-03:00\",\"2023-12-15T16:40:00-03:00\",\"2023-12-15T16:45:00-03:00\",\"2023-12-15T16:50:00-03:00\",\"2023-12-15T16:55:00-03:00\"],\"xaxis\":\"x\",\"y\":[4.460000038146973,4.489999771118164,4.480000019073486,4.489999771118164,4.489999771118164,4.519999980926514,4.489999771118164,4.489999771118164,4.480000019073486,4.480000019073486,4.489999771118164,4.489999771118164,4.46999979019165,4.46999979019165,4.460000038146973,4.460000038146973,4.460000038146973,4.440000057220459,4.460000038146973,4.460000038146973,4.489999771118164,4.489999771118164,4.480000019073486,4.460000038146973,4.460000038146973,4.5,4.53000020980835,4.5,4.5,4.5,4.510000228881836,4.510000228881836,4.5,4.510000228881836,4.53000020980835,4.510000228881836,4.519999980926514,4.53000020980835,4.510000228881836,4.539999961853027,4.53000020980835,4.539999961853027,4.53000020980835,4.53000020980835,4.519999980926514,4.5,4.5,4.5,4.489999771118164,4.489999771118164,4.550000190734863,4.519999980926514,4.519999980926514,4.519999980926514,4.53000020980835,4.53000020980835,4.539999961853027,4.559999942779541,4.550000190734863,4.550000190734863,4.570000171661377,4.550000190734863,4.550000190734863,4.539999961853027,4.539999961853027,4.539999961853027,4.539999961853027,4.53000020980835,4.53000020980835,4.539999961853027,4.519999980926514,4.519999980926514,4.519999980926514,4.53000020980835,4.53000020980835,4.519999980926514,4.510000228881836,4.519999980926514,4.53000020980835,4.510000228881836,4.519999980926514,4.53000020980835,4.53000020980835,4.53000020980835],\"yaxis\":\"y\",\"type\":\"scatter\"}],                        {\"template\":{\"data\":{\"histogram2dcontour\":[{\"type\":\"histogram2dcontour\",\"colorbar\":{\"outlinewidth\":0,\"ticks\":\"\"},\"colorscale\":[[0.0,\"#0d0887\"],[0.1111111111111111,\"#46039f\"],[0.2222222222222222,\"#7201a8\"],[0.3333333333333333,\"#9c179e\"],[0.4444444444444444,\"#bd3786\"],[0.5555555555555556,\"#d8576b\"],[0.6666666666666666,\"#ed7953\"],[0.7777777777777778,\"#fb9f3a\"],[0.8888888888888888,\"#fdca26\"],[1.0,\"#f0f921\"]]}],\"choropleth\":[{\"type\":\"choropleth\",\"colorbar\":{\"outlinewidth\":0,\"ticks\":\"\"}}],\"histogram2d\":[{\"type\":\"histogram2d\",\"colorbar\":{\"outlinewidth\":0,\"ticks\":\"\"},\"colorscale\":[[0.0,\"#0d0887\"],[0.1111111111111111,\"#46039f\"],[0.2222222222222222,\"#7201a8\"],[0.3333333333333333,\"#9c179e\"],[0.4444444444444444,\"#bd3786\"],[0.5555555555555556,\"#d8576b\"],[0.6666666666666666,\"#ed7953\"],[0.7777777777777778,\"#fb9f3a\"],[0.8888888888888888,\"#fdca26\"],[1.0,\"#f0f921\"]]}],\"heatmap\":[{\"type\":\"heatmap\",\"colorbar\":{\"outlinewidth\":0,\"ticks\":\"\"},\"colorscale\":[[0.0,\"#0d0887\"],[0.1111111111111111,\"#46039f\"],[0.2222222222222222,\"#7201a8\"],[0.3333333333333333,\"#9c179e\"],[0.4444444444444444,\"#bd3786\"],[0.5555555555555556,\"#d8576b\"],[0.6666666666666666,\"#ed7953\"],[0.7777777777777778,\"#fb9f3a\"],[0.8888888888888888,\"#fdca26\"],[1.0,\"#f0f921\"]]}],\"heatmapgl\":[{\"type\":\"heatmapgl\",\"colorbar\":{\"outlinewidth\":0,\"ticks\":\"\"},\"colorscale\":[[0.0,\"#0d0887\"],[0.1111111111111111,\"#46039f\"],[0.2222222222222222,\"#7201a8\"],[0.3333333333333333,\"#9c179e\"],[0.4444444444444444,\"#bd3786\"],[0.5555555555555556,\"#d8576b\"],[0.6666666666666666,\"#ed7953\"],[0.7777777777777778,\"#fb9f3a\"],[0.8888888888888888,\"#fdca26\"],[1.0,\"#f0f921\"]]}],\"contourcarpet\":[{\"type\":\"contourcarpet\",\"colorbar\":{\"outlinewidth\":0,\"ticks\":\"\"}}],\"contour\":[{\"type\":\"contour\",\"colorbar\":{\"outlinewidth\":0,\"ticks\":\"\"},\"colorscale\":[[0.0,\"#0d0887\"],[0.1111111111111111,\"#46039f\"],[0.2222222222222222,\"#7201a8\"],[0.3333333333333333,\"#9c179e\"],[0.4444444444444444,\"#bd3786\"],[0.5555555555555556,\"#d8576b\"],[0.6666666666666666,\"#ed7953\"],[0.7777777777777778,\"#fb9f3a\"],[0.8888888888888888,\"#fdca26\"],[1.0,\"#f0f921\"]]}],\"surface\":[{\"type\":\"surface\",\"colorbar\":{\"outlinewidth\":0,\"ticks\":\"\"},\"colorscale\":[[0.0,\"#0d0887\"],[0.1111111111111111,\"#46039f\"],[0.2222222222222222,\"#7201a8\"],[0.3333333333333333,\"#9c179e\"],[0.4444444444444444,\"#bd3786\"],[0.5555555555555556,\"#d8576b\"],[0.6666666666666666,\"#ed7953\"],[0.7777777777777778,\"#fb9f3a\"],[0.8888888888888888,\"#fdca26\"],[1.0,\"#f0f921\"]]}],\"mesh3d\":[{\"type\":\"mesh3d\",\"colorbar\":{\"outlinewidth\":0,\"ticks\":\"\"}}],\"scatter\":[{\"fillpattern\":{\"fillmode\":\"overlay\",\"size\":10,\"solidity\":0.2},\"type\":\"scatter\"}],\"parcoords\":[{\"type\":\"parcoords\",\"line\":{\"colorbar\":{\"outlinewidth\":0,\"ticks\":\"\"}}}],\"scatterpolargl\":[{\"type\":\"scatterpolargl\",\"marker\":{\"colorbar\":{\"outlinewidth\":0,\"ticks\":\"\"}}}],\"bar\":[{\"error_x\":{\"color\":\"#2a3f5f\"},\"error_y\":{\"color\":\"#2a3f5f\"},\"marker\":{\"line\":{\"color\":\"#E5ECF6\",\"width\":0.5},\"pattern\":{\"fillmode\":\"overlay\",\"size\":10,\"solidity\":0.2}},\"type\":\"bar\"}],\"scattergeo\":[{\"type\":\"scattergeo\",\"marker\":{\"colorbar\":{\"outlinewidth\":0,\"ticks\":\"\"}}}],\"scatterpolar\":[{\"type\":\"scatterpolar\",\"marker\":{\"colorbar\":{\"outlinewidth\":0,\"ticks\":\"\"}}}],\"histogram\":[{\"marker\":{\"pattern\":{\"fillmode\":\"overlay\",\"size\":10,\"solidity\":0.2}},\"type\":\"histogram\"}],\"scattergl\":[{\"type\":\"scattergl\",\"marker\":{\"colorbar\":{\"outlinewidth\":0,\"ticks\":\"\"}}}],\"scatter3d\":[{\"type\":\"scatter3d\",\"line\":{\"colorbar\":{\"outlinewidth\":0,\"ticks\":\"\"}},\"marker\":{\"colorbar\":{\"outlinewidth\":0,\"ticks\":\"\"}}}],\"scattermapbox\":[{\"type\":\"scattermapbox\",\"marker\":{\"colorbar\":{\"outlinewidth\":0,\"ticks\":\"\"}}}],\"scatterternary\":[{\"type\":\"scatterternary\",\"marker\":{\"colorbar\":{\"outlinewidth\":0,\"ticks\":\"\"}}}],\"scattercarpet\":[{\"type\":\"scattercarpet\",\"marker\":{\"colorbar\":{\"outlinewidth\":0,\"ticks\":\"\"}}}],\"carpet\":[{\"aaxis\":{\"endlinecolor\":\"#2a3f5f\",\"gridcolor\":\"white\",\"linecolor\":\"white\",\"minorgridcolor\":\"white\",\"startlinecolor\":\"#2a3f5f\"},\"baxis\":{\"endlinecolor\":\"#2a3f5f\",\"gridcolor\":\"white\",\"linecolor\":\"white\",\"minorgridcolor\":\"white\",\"startlinecolor\":\"#2a3f5f\"},\"type\":\"carpet\"}],\"table\":[{\"cells\":{\"fill\":{\"color\":\"#EBF0F8\"},\"line\":{\"color\":\"white\"}},\"header\":{\"fill\":{\"color\":\"#C8D4E3\"},\"line\":{\"color\":\"white\"}},\"type\":\"table\"}],\"barpolar\":[{\"marker\":{\"line\":{\"color\":\"#E5ECF6\",\"width\":0.5},\"pattern\":{\"fillmode\":\"overlay\",\"size\":10,\"solidity\":0.2}},\"type\":\"barpolar\"}],\"pie\":[{\"automargin\":true,\"type\":\"pie\"}]},\"layout\":{\"autotypenumbers\":\"strict\",\"colorway\":[\"#636efa\",\"#EF553B\",\"#00cc96\",\"#ab63fa\",\"#FFA15A\",\"#19d3f3\",\"#FF6692\",\"#B6E880\",\"#FF97FF\",\"#FECB52\"],\"font\":{\"color\":\"#2a3f5f\"},\"hovermode\":\"closest\",\"hoverlabel\":{\"align\":\"left\"},\"paper_bgcolor\":\"white\",\"plot_bgcolor\":\"#E5ECF6\",\"polar\":{\"bgcolor\":\"#E5ECF6\",\"angularaxis\":{\"gridcolor\":\"white\",\"linecolor\":\"white\",\"ticks\":\"\"},\"radialaxis\":{\"gridcolor\":\"white\",\"linecolor\":\"white\",\"ticks\":\"\"}},\"ternary\":{\"bgcolor\":\"#E5ECF6\",\"aaxis\":{\"gridcolor\":\"white\",\"linecolor\":\"white\",\"ticks\":\"\"},\"baxis\":{\"gridcolor\":\"white\",\"linecolor\":\"white\",\"ticks\":\"\"},\"caxis\":{\"gridcolor\":\"white\",\"linecolor\":\"white\",\"ticks\":\"\"}},\"coloraxis\":{\"colorbar\":{\"outlinewidth\":0,\"ticks\":\"\"}},\"colorscale\":{\"sequential\":[[0.0,\"#0d0887\"],[0.1111111111111111,\"#46039f\"],[0.2222222222222222,\"#7201a8\"],[0.3333333333333333,\"#9c179e\"],[0.4444444444444444,\"#bd3786\"],[0.5555555555555556,\"#d8576b\"],[0.6666666666666666,\"#ed7953\"],[0.7777777777777778,\"#fb9f3a\"],[0.8888888888888888,\"#fdca26\"],[1.0,\"#f0f921\"]],\"sequentialminus\":[[0.0,\"#0d0887\"],[0.1111111111111111,\"#46039f\"],[0.2222222222222222,\"#7201a8\"],[0.3333333333333333,\"#9c179e\"],[0.4444444444444444,\"#bd3786\"],[0.5555555555555556,\"#d8576b\"],[0.6666666666666666,\"#ed7953\"],[0.7777777777777778,\"#fb9f3a\"],[0.8888888888888888,\"#fdca26\"],[1.0,\"#f0f921\"]],\"diverging\":[[0,\"#8e0152\"],[0.1,\"#c51b7d\"],[0.2,\"#de77ae\"],[0.3,\"#f1b6da\"],[0.4,\"#fde0ef\"],[0.5,\"#f7f7f7\"],[0.6,\"#e6f5d0\"],[0.7,\"#b8e186\"],[0.8,\"#7fbc41\"],[0.9,\"#4d9221\"],[1,\"#276419\"]]},\"xaxis\":{\"gridcolor\":\"white\",\"linecolor\":\"white\",\"ticks\":\"\",\"title\":{\"standoff\":15},\"zerolinecolor\":\"white\",\"automargin\":true,\"zerolinewidth\":2},\"yaxis\":{\"gridcolor\":\"white\",\"linecolor\":\"white\",\"ticks\":\"\",\"title\":{\"standoff\":15},\"zerolinecolor\":\"white\",\"automargin\":true,\"zerolinewidth\":2},\"scene\":{\"xaxis\":{\"backgroundcolor\":\"#E5ECF6\",\"gridcolor\":\"white\",\"linecolor\":\"white\",\"showbackground\":true,\"ticks\":\"\",\"zerolinecolor\":\"white\",\"gridwidth\":2},\"yaxis\":{\"backgroundcolor\":\"#E5ECF6\",\"gridcolor\":\"white\",\"linecolor\":\"white\",\"showbackground\":true,\"ticks\":\"\",\"zerolinecolor\":\"white\",\"gridwidth\":2},\"zaxis\":{\"backgroundcolor\":\"#E5ECF6\",\"gridcolor\":\"white\",\"linecolor\":\"white\",\"showbackground\":true,\"ticks\":\"\",\"zerolinecolor\":\"white\",\"gridwidth\":2}},\"shapedefaults\":{\"line\":{\"color\":\"#2a3f5f\"}},\"annotationdefaults\":{\"arrowcolor\":\"#2a3f5f\",\"arrowhead\":0,\"arrowwidth\":1},\"geo\":{\"bgcolor\":\"white\",\"landcolor\":\"#E5ECF6\",\"subunitcolor\":\"white\",\"showland\":true,\"showlakes\":true,\"lakecolor\":\"white\"},\"title\":{\"x\":0.05},\"mapbox\":{\"style\":\"light\"}}},\"xaxis\":{\"anchor\":\"y\",\"domain\":[0.0,1.0],\"title\":{\"text\":\"Datetime\"}},\"yaxis\":{\"anchor\":\"x\",\"domain\":[0.0,1.0],\"title\":{\"text\":\"Close\"}},\"legend\":{\"tracegroupgap\":0},\"title\":{\"text\":\"\\u003cb\\u003eDados de:\\u003c\\u002fb\\u003e CIEL3\"}},                        {\"responsive\": true}                    )                };                            </script>        </div>"
      ],
      "text/plain": [
       "Figure({\n",
       "    'data': [{'hovertemplate': 'Datetime=%{x}<br>Close=%{y}<extra></extra>',\n",
       "              'legendgroup': '',\n",
       "              'line': {'color': '#636efa', 'dash': 'solid'},\n",
       "              'marker': {'symbol': 'circle'},\n",
       "              'mode': 'markers+lines',\n",
       "              'name': '',\n",
       "              'orientation': 'v',\n",
       "              'showlegend': False,\n",
       "              'type': 'scatter',\n",
       "              'x': array([datetime.datetime(2023, 12, 15, 10, 0, tzinfo=<DstTzInfo 'America/Sao_Paulo' -03-1 day, 21:00:00 STD>),\n",
       "                          datetime.datetime(2023, 12, 15, 10, 5, tzinfo=<DstTzInfo 'America/Sao_Paulo' -03-1 day, 21:00:00 STD>),\n",
       "                          datetime.datetime(2023, 12, 15, 10, 10, tzinfo=<DstTzInfo 'America/Sao_Paulo' -03-1 day, 21:00:00 STD>),\n",
       "                          datetime.datetime(2023, 12, 15, 10, 15, tzinfo=<DstTzInfo 'America/Sao_Paulo' -03-1 day, 21:00:00 STD>),\n",
       "                          datetime.datetime(2023, 12, 15, 10, 20, tzinfo=<DstTzInfo 'America/Sao_Paulo' -03-1 day, 21:00:00 STD>),\n",
       "                          datetime.datetime(2023, 12, 15, 10, 25, tzinfo=<DstTzInfo 'America/Sao_Paulo' -03-1 day, 21:00:00 STD>),\n",
       "                          datetime.datetime(2023, 12, 15, 10, 30, tzinfo=<DstTzInfo 'America/Sao_Paulo' -03-1 day, 21:00:00 STD>),\n",
       "                          datetime.datetime(2023, 12, 15, 10, 35, tzinfo=<DstTzInfo 'America/Sao_Paulo' -03-1 day, 21:00:00 STD>),\n",
       "                          datetime.datetime(2023, 12, 15, 10, 40, tzinfo=<DstTzInfo 'America/Sao_Paulo' -03-1 day, 21:00:00 STD>),\n",
       "                          datetime.datetime(2023, 12, 15, 10, 45, tzinfo=<DstTzInfo 'America/Sao_Paulo' -03-1 day, 21:00:00 STD>),\n",
       "                          datetime.datetime(2023, 12, 15, 10, 50, tzinfo=<DstTzInfo 'America/Sao_Paulo' -03-1 day, 21:00:00 STD>),\n",
       "                          datetime.datetime(2023, 12, 15, 10, 55, tzinfo=<DstTzInfo 'America/Sao_Paulo' -03-1 day, 21:00:00 STD>),\n",
       "                          datetime.datetime(2023, 12, 15, 11, 0, tzinfo=<DstTzInfo 'America/Sao_Paulo' -03-1 day, 21:00:00 STD>),\n",
       "                          datetime.datetime(2023, 12, 15, 11, 5, tzinfo=<DstTzInfo 'America/Sao_Paulo' -03-1 day, 21:00:00 STD>),\n",
       "                          datetime.datetime(2023, 12, 15, 11, 10, tzinfo=<DstTzInfo 'America/Sao_Paulo' -03-1 day, 21:00:00 STD>),\n",
       "                          datetime.datetime(2023, 12, 15, 11, 15, tzinfo=<DstTzInfo 'America/Sao_Paulo' -03-1 day, 21:00:00 STD>),\n",
       "                          datetime.datetime(2023, 12, 15, 11, 20, tzinfo=<DstTzInfo 'America/Sao_Paulo' -03-1 day, 21:00:00 STD>),\n",
       "                          datetime.datetime(2023, 12, 15, 11, 25, tzinfo=<DstTzInfo 'America/Sao_Paulo' -03-1 day, 21:00:00 STD>),\n",
       "                          datetime.datetime(2023, 12, 15, 11, 30, tzinfo=<DstTzInfo 'America/Sao_Paulo' -03-1 day, 21:00:00 STD>),\n",
       "                          datetime.datetime(2023, 12, 15, 11, 35, tzinfo=<DstTzInfo 'America/Sao_Paulo' -03-1 day, 21:00:00 STD>),\n",
       "                          datetime.datetime(2023, 12, 15, 11, 40, tzinfo=<DstTzInfo 'America/Sao_Paulo' -03-1 day, 21:00:00 STD>),\n",
       "                          datetime.datetime(2023, 12, 15, 11, 45, tzinfo=<DstTzInfo 'America/Sao_Paulo' -03-1 day, 21:00:00 STD>),\n",
       "                          datetime.datetime(2023, 12, 15, 11, 50, tzinfo=<DstTzInfo 'America/Sao_Paulo' -03-1 day, 21:00:00 STD>),\n",
       "                          datetime.datetime(2023, 12, 15, 11, 55, tzinfo=<DstTzInfo 'America/Sao_Paulo' -03-1 day, 21:00:00 STD>),\n",
       "                          datetime.datetime(2023, 12, 15, 12, 0, tzinfo=<DstTzInfo 'America/Sao_Paulo' -03-1 day, 21:00:00 STD>),\n",
       "                          datetime.datetime(2023, 12, 15, 12, 5, tzinfo=<DstTzInfo 'America/Sao_Paulo' -03-1 day, 21:00:00 STD>),\n",
       "                          datetime.datetime(2023, 12, 15, 12, 10, tzinfo=<DstTzInfo 'America/Sao_Paulo' -03-1 day, 21:00:00 STD>),\n",
       "                          datetime.datetime(2023, 12, 15, 12, 15, tzinfo=<DstTzInfo 'America/Sao_Paulo' -03-1 day, 21:00:00 STD>),\n",
       "                          datetime.datetime(2023, 12, 15, 12, 20, tzinfo=<DstTzInfo 'America/Sao_Paulo' -03-1 day, 21:00:00 STD>),\n",
       "                          datetime.datetime(2023, 12, 15, 12, 25, tzinfo=<DstTzInfo 'America/Sao_Paulo' -03-1 day, 21:00:00 STD>),\n",
       "                          datetime.datetime(2023, 12, 15, 12, 30, tzinfo=<DstTzInfo 'America/Sao_Paulo' -03-1 day, 21:00:00 STD>),\n",
       "                          datetime.datetime(2023, 12, 15, 12, 35, tzinfo=<DstTzInfo 'America/Sao_Paulo' -03-1 day, 21:00:00 STD>),\n",
       "                          datetime.datetime(2023, 12, 15, 12, 40, tzinfo=<DstTzInfo 'America/Sao_Paulo' -03-1 day, 21:00:00 STD>),\n",
       "                          datetime.datetime(2023, 12, 15, 12, 45, tzinfo=<DstTzInfo 'America/Sao_Paulo' -03-1 day, 21:00:00 STD>),\n",
       "                          datetime.datetime(2023, 12, 15, 12, 50, tzinfo=<DstTzInfo 'America/Sao_Paulo' -03-1 day, 21:00:00 STD>),\n",
       "                          datetime.datetime(2023, 12, 15, 12, 55, tzinfo=<DstTzInfo 'America/Sao_Paulo' -03-1 day, 21:00:00 STD>),\n",
       "                          datetime.datetime(2023, 12, 15, 13, 0, tzinfo=<DstTzInfo 'America/Sao_Paulo' -03-1 day, 21:00:00 STD>),\n",
       "                          datetime.datetime(2023, 12, 15, 13, 5, tzinfo=<DstTzInfo 'America/Sao_Paulo' -03-1 day, 21:00:00 STD>),\n",
       "                          datetime.datetime(2023, 12, 15, 13, 10, tzinfo=<DstTzInfo 'America/Sao_Paulo' -03-1 day, 21:00:00 STD>),\n",
       "                          datetime.datetime(2023, 12, 15, 13, 15, tzinfo=<DstTzInfo 'America/Sao_Paulo' -03-1 day, 21:00:00 STD>),\n",
       "                          datetime.datetime(2023, 12, 15, 13, 20, tzinfo=<DstTzInfo 'America/Sao_Paulo' -03-1 day, 21:00:00 STD>),\n",
       "                          datetime.datetime(2023, 12, 15, 13, 25, tzinfo=<DstTzInfo 'America/Sao_Paulo' -03-1 day, 21:00:00 STD>),\n",
       "                          datetime.datetime(2023, 12, 15, 13, 30, tzinfo=<DstTzInfo 'America/Sao_Paulo' -03-1 day, 21:00:00 STD>),\n",
       "                          datetime.datetime(2023, 12, 15, 13, 35, tzinfo=<DstTzInfo 'America/Sao_Paulo' -03-1 day, 21:00:00 STD>),\n",
       "                          datetime.datetime(2023, 12, 15, 13, 40, tzinfo=<DstTzInfo 'America/Sao_Paulo' -03-1 day, 21:00:00 STD>),\n",
       "                          datetime.datetime(2023, 12, 15, 13, 45, tzinfo=<DstTzInfo 'America/Sao_Paulo' -03-1 day, 21:00:00 STD>),\n",
       "                          datetime.datetime(2023, 12, 15, 13, 50, tzinfo=<DstTzInfo 'America/Sao_Paulo' -03-1 day, 21:00:00 STD>),\n",
       "                          datetime.datetime(2023, 12, 15, 13, 55, tzinfo=<DstTzInfo 'America/Sao_Paulo' -03-1 day, 21:00:00 STD>),\n",
       "                          datetime.datetime(2023, 12, 15, 14, 0, tzinfo=<DstTzInfo 'America/Sao_Paulo' -03-1 day, 21:00:00 STD>),\n",
       "                          datetime.datetime(2023, 12, 15, 14, 5, tzinfo=<DstTzInfo 'America/Sao_Paulo' -03-1 day, 21:00:00 STD>),\n",
       "                          datetime.datetime(2023, 12, 15, 14, 10, tzinfo=<DstTzInfo 'America/Sao_Paulo' -03-1 day, 21:00:00 STD>),\n",
       "                          datetime.datetime(2023, 12, 15, 14, 15, tzinfo=<DstTzInfo 'America/Sao_Paulo' -03-1 day, 21:00:00 STD>),\n",
       "                          datetime.datetime(2023, 12, 15, 14, 20, tzinfo=<DstTzInfo 'America/Sao_Paulo' -03-1 day, 21:00:00 STD>),\n",
       "                          datetime.datetime(2023, 12, 15, 14, 25, tzinfo=<DstTzInfo 'America/Sao_Paulo' -03-1 day, 21:00:00 STD>),\n",
       "                          datetime.datetime(2023, 12, 15, 14, 30, tzinfo=<DstTzInfo 'America/Sao_Paulo' -03-1 day, 21:00:00 STD>),\n",
       "                          datetime.datetime(2023, 12, 15, 14, 35, tzinfo=<DstTzInfo 'America/Sao_Paulo' -03-1 day, 21:00:00 STD>),\n",
       "                          datetime.datetime(2023, 12, 15, 14, 40, tzinfo=<DstTzInfo 'America/Sao_Paulo' -03-1 day, 21:00:00 STD>),\n",
       "                          datetime.datetime(2023, 12, 15, 14, 45, tzinfo=<DstTzInfo 'America/Sao_Paulo' -03-1 day, 21:00:00 STD>),\n",
       "                          datetime.datetime(2023, 12, 15, 14, 50, tzinfo=<DstTzInfo 'America/Sao_Paulo' -03-1 day, 21:00:00 STD>),\n",
       "                          datetime.datetime(2023, 12, 15, 14, 55, tzinfo=<DstTzInfo 'America/Sao_Paulo' -03-1 day, 21:00:00 STD>),\n",
       "                          datetime.datetime(2023, 12, 15, 15, 0, tzinfo=<DstTzInfo 'America/Sao_Paulo' -03-1 day, 21:00:00 STD>),\n",
       "                          datetime.datetime(2023, 12, 15, 15, 5, tzinfo=<DstTzInfo 'America/Sao_Paulo' -03-1 day, 21:00:00 STD>),\n",
       "                          datetime.datetime(2023, 12, 15, 15, 10, tzinfo=<DstTzInfo 'America/Sao_Paulo' -03-1 day, 21:00:00 STD>),\n",
       "                          datetime.datetime(2023, 12, 15, 15, 15, tzinfo=<DstTzInfo 'America/Sao_Paulo' -03-1 day, 21:00:00 STD>),\n",
       "                          datetime.datetime(2023, 12, 15, 15, 20, tzinfo=<DstTzInfo 'America/Sao_Paulo' -03-1 day, 21:00:00 STD>),\n",
       "                          datetime.datetime(2023, 12, 15, 15, 25, tzinfo=<DstTzInfo 'America/Sao_Paulo' -03-1 day, 21:00:00 STD>),\n",
       "                          datetime.datetime(2023, 12, 15, 15, 30, tzinfo=<DstTzInfo 'America/Sao_Paulo' -03-1 day, 21:00:00 STD>),\n",
       "                          datetime.datetime(2023, 12, 15, 15, 35, tzinfo=<DstTzInfo 'America/Sao_Paulo' -03-1 day, 21:00:00 STD>),\n",
       "                          datetime.datetime(2023, 12, 15, 15, 40, tzinfo=<DstTzInfo 'America/Sao_Paulo' -03-1 day, 21:00:00 STD>),\n",
       "                          datetime.datetime(2023, 12, 15, 15, 45, tzinfo=<DstTzInfo 'America/Sao_Paulo' -03-1 day, 21:00:00 STD>),\n",
       "                          datetime.datetime(2023, 12, 15, 15, 50, tzinfo=<DstTzInfo 'America/Sao_Paulo' -03-1 day, 21:00:00 STD>),\n",
       "                          datetime.datetime(2023, 12, 15, 15, 55, tzinfo=<DstTzInfo 'America/Sao_Paulo' -03-1 day, 21:00:00 STD>),\n",
       "                          datetime.datetime(2023, 12, 15, 16, 0, tzinfo=<DstTzInfo 'America/Sao_Paulo' -03-1 day, 21:00:00 STD>),\n",
       "                          datetime.datetime(2023, 12, 15, 16, 5, tzinfo=<DstTzInfo 'America/Sao_Paulo' -03-1 day, 21:00:00 STD>),\n",
       "                          datetime.datetime(2023, 12, 15, 16, 10, tzinfo=<DstTzInfo 'America/Sao_Paulo' -03-1 day, 21:00:00 STD>),\n",
       "                          datetime.datetime(2023, 12, 15, 16, 15, tzinfo=<DstTzInfo 'America/Sao_Paulo' -03-1 day, 21:00:00 STD>),\n",
       "                          datetime.datetime(2023, 12, 15, 16, 20, tzinfo=<DstTzInfo 'America/Sao_Paulo' -03-1 day, 21:00:00 STD>),\n",
       "                          datetime.datetime(2023, 12, 15, 16, 25, tzinfo=<DstTzInfo 'America/Sao_Paulo' -03-1 day, 21:00:00 STD>),\n",
       "                          datetime.datetime(2023, 12, 15, 16, 30, tzinfo=<DstTzInfo 'America/Sao_Paulo' -03-1 day, 21:00:00 STD>),\n",
       "                          datetime.datetime(2023, 12, 15, 16, 35, tzinfo=<DstTzInfo 'America/Sao_Paulo' -03-1 day, 21:00:00 STD>),\n",
       "                          datetime.datetime(2023, 12, 15, 16, 40, tzinfo=<DstTzInfo 'America/Sao_Paulo' -03-1 day, 21:00:00 STD>),\n",
       "                          datetime.datetime(2023, 12, 15, 16, 45, tzinfo=<DstTzInfo 'America/Sao_Paulo' -03-1 day, 21:00:00 STD>),\n",
       "                          datetime.datetime(2023, 12, 15, 16, 50, tzinfo=<DstTzInfo 'America/Sao_Paulo' -03-1 day, 21:00:00 STD>),\n",
       "                          datetime.datetime(2023, 12, 15, 16, 55, tzinfo=<DstTzInfo 'America/Sao_Paulo' -03-1 day, 21:00:00 STD>)],\n",
       "                         dtype=object),\n",
       "              'xaxis': 'x',\n",
       "              'y': array([4.46000004, 4.48999977, 4.48000002, 4.48999977, 4.48999977, 4.51999998,\n",
       "                          4.48999977, 4.48999977, 4.48000002, 4.48000002, 4.48999977, 4.48999977,\n",
       "                          4.46999979, 4.46999979, 4.46000004, 4.46000004, 4.46000004, 4.44000006,\n",
       "                          4.46000004, 4.46000004, 4.48999977, 4.48999977, 4.48000002, 4.46000004,\n",
       "                          4.46000004, 4.5       , 4.53000021, 4.5       , 4.5       , 4.5       ,\n",
       "                          4.51000023, 4.51000023, 4.5       , 4.51000023, 4.53000021, 4.51000023,\n",
       "                          4.51999998, 4.53000021, 4.51000023, 4.53999996, 4.53000021, 4.53999996,\n",
       "                          4.53000021, 4.53000021, 4.51999998, 4.5       , 4.5       , 4.5       ,\n",
       "                          4.48999977, 4.48999977, 4.55000019, 4.51999998, 4.51999998, 4.51999998,\n",
       "                          4.53000021, 4.53000021, 4.53999996, 4.55999994, 4.55000019, 4.55000019,\n",
       "                          4.57000017, 4.55000019, 4.55000019, 4.53999996, 4.53999996, 4.53999996,\n",
       "                          4.53999996, 4.53000021, 4.53000021, 4.53999996, 4.51999998, 4.51999998,\n",
       "                          4.51999998, 4.53000021, 4.53000021, 4.51999998, 4.51000023, 4.51999998,\n",
       "                          4.53000021, 4.51000023, 4.51999998, 4.53000021, 4.53000021, 4.53000021]),\n",
       "              'yaxis': 'y'}],\n",
       "    'layout': {'legend': {'tracegroupgap': 0},\n",
       "               'template': '...',\n",
       "               'title': {'text': '<b>Dados de:</b> CIEL3'},\n",
       "               'xaxis': {'anchor': 'y', 'domain': [0.0, 1.0], 'title': {'text': 'Datetime'}},\n",
       "               'yaxis': {'anchor': 'x', 'domain': [0.0, 1.0], 'title': {'text': 'Close'}}}\n",
       "})"
      ]
     },
     "execution_count": 5,
     "metadata": {},
     "output_type": "execute_result"
    }
   ],
   "source": [
    "import yfinance as yf\n",
    "import plotly.express as px\n",
    "\n",
    "acao = 'CIEL3'\n",
    "\n",
    "\"\"\"\n",
    "period : str\n",
    "    Valid periods: 1d,5d,1mo,3mo,6mo,1y,2y,5y,10y,ytd,max\n",
    "    Either Use period parameter or use start and end\n",
    "interval : str\n",
    "    Valid intervals: 1m,2m,5m,15m,30m,60m,90m,1h,1d,5d,1wk,1mo,3mo\n",
    "    Intraday data cannot extend last 60 days\n",
    "\"\"\"\n",
    "msft = yf.Ticker(f'{acao}.SA')\n",
    "df = msft.history(period = \"1d\", interval=\"5m\")\n",
    "df = df.reset_index()\n",
    "\n",
    "px.line(df, x='Datetime', y='Close', markers=True, title=f'<b>Dados de:</b> {acao}')"
   ]
  },
  {
   "cell_type": "code",
   "execution_count": null,
   "metadata": {},
   "outputs": [],
   "source": [
    "# A tabela com a lista de ações está na posição 2\n",
    "lista_acoes = tabelas['Código']\n",
    "\n",
    "# Exibe a coluna de símbolos\n",
    "tickers = lista_acoes['Código'].tolist()\n",
    "print(tickers)"
   ]
  },
  {
   "cell_type": "code",
   "execution_count": 2,
   "metadata": {},
   "outputs": [
    {
     "ename": "NameError",
     "evalue": "name 'tickers' is not defined",
     "output_type": "error",
     "traceback": [
      "\u001b[1;31m---------------------------------------------------------------------------\u001b[0m",
      "\u001b[1;31mNameError\u001b[0m                                 Traceback (most recent call last)",
      "Cell \u001b[1;32mIn[2], line 9\u001b[0m\n\u001b[0;32m      6\u001b[0m \u001b[38;5;66;03m# Faz o request para obter o conteúdo HTML da página\u001b[39;00m\n\u001b[0;32m      7\u001b[0m response \u001b[38;5;241m=\u001b[39m requests\u001b[38;5;241m.\u001b[39mget(url)\n\u001b[1;32m----> 9\u001b[0m \u001b[38;5;28;01mfor\u001b[39;00m i \u001b[38;5;129;01min\u001b[39;00m \u001b[43mtickers\u001b[49m[\u001b[38;5;241m1\u001b[39m:]:\n\u001b[0;32m     10\u001b[0m   \u001b[38;5;28mprint\u001b[39m(i)\n\u001b[0;32m     11\u001b[0m \u001b[38;5;28mprint\u001b[39m(\u001b[38;5;28mlen\u001b[39m(tickers))\n",
      "\u001b[1;31mNameError\u001b[0m: name 'tickers' is not defined"
     ]
    }
   ],
   "source": [
    "import requests\n",
    "\n",
    "# URL da página que contém a lista de ações da Ibovespa\n",
    "url = 'http://bvmf.bmfbovespa.com.br/indices/ResumoCarteiraTeorica.aspx?Indice=IBOV&idioma=pt-br'\n",
    "\n",
    "# Faz o request para obter o conteúdo HTML da página\n",
    "response = requests.get(url)\n",
    "\n",
    "for i in tickers[1:]:\n",
    "  print(i)\n",
    "print(len(tickers))"
   ]
  },
  {
   "cell_type": "code",
   "execution_count": 7,
   "metadata": {},
   "outputs": [
    {
     "name": "stdout",
     "output_type": "stream",
     "text": [
      "ABEV3\n",
      "ASAI3\n",
      "AZUL4\n",
      "B3SA3\n",
      "BBAS3\n",
      "BBDC3\n",
      "BBDC4\n",
      "BBSE3\n",
      "BEEF3\n",
      "BPAC11\n",
      "BRAP4\n",
      "BRDT3\n",
      "BRFS3\n",
      "BRKM5\n",
      "BRML3\n",
      "BTOW3\n",
      "CCRO3\n",
      "CIEL3\n",
      "CMIG4\n",
      "COGN3\n",
      "CPFE3\n",
      "CPLE6\n",
      "CRFB3\n",
      "CSAN3\n",
      "CSNA3\n",
      "CVCB3\n",
      "CYRE3\n",
      "ECOR3\n",
      "EGIE3\n",
      "ELET3\n",
      "ELET6\n",
      "EMBR3\n",
      "ENBR3\n",
      "ENEV3\n",
      "ENGI11\n",
      "EQTL3\n",
      "EZTC3\n",
      "FLRY3\n",
      "GGBR4\n",
      "GNDI3\n",
      "GOAU4\n",
      "GOLL4\n",
      "HAPV3\n",
      "HGTX3\n",
      "HYPE3\n",
      "IGTA3\n",
      "IRBR3\n",
      "ITSA4\n",
      "ITUB4\n",
      "JBSS3\n",
      "JHSF3\n",
      "KLBN11\n",
      "LAME4\n",
      "LCAM3\n",
      "LREN3\n",
      "MGLU3\n",
      "MRFG3\n",
      "MRVE3\n",
      "MULT3\n",
      "NTCO3\n",
      "PCAR3\n",
      "PETR3\n",
      "PETR4\n",
      "PRIO3\n",
      "QUAL3\n",
      "RADL3\n",
      "RAIL3\n",
      "RENT3\n",
      "SANB11\n",
      "SBSP3\n",
      "SULA11\n",
      "SUZB3\n",
      "TAEE11\n",
      "TIMS3\n",
      "TOTS3\n",
      "UGPA3\n",
      "USIM5\n",
      "VALE3\n",
      "VIVT3\n",
      "VVAR3\n",
      "WEGE3\n",
      "YDUQ3\n"
     ]
    }
   ],
   "source": [
    "import requests\n",
    "from bs4 import BeautifulSoup\n",
    "\n",
    "# URL da página que contém a lista de ações da Ibovespa\n",
    "url = 'http://bvmf.bmfbovespa.com.br/indices/ResumoCarteiraTeorica.aspx?Indice=IBOV&idioma=pt-br'\n",
    "\n",
    "# Faz o request para obter o conteúdo HTML da página\n",
    "response = requests.get(url)\n",
    "\n",
    "# Verifica se a requisição foi bem-sucedida\n",
    "if response.status_code == 200:\n",
    "    # Parseia o conteúdo HTML com o BeautifulSoup\n",
    "    soup = BeautifulSoup(response.text, 'html.parser')\n",
    "\n",
    "    # Encontra a tabela que contém a lista de ações\n",
    "    table = soup.find('table', {'class': 'rgMasterTable'})\n",
    "\n",
    "    # Extrai os símbolos (tickers) das ações\n",
    "    tickers = [row.find_all('td')[0].text.strip() for row in table.find_all('tr')[1:]]  # Ignora o cabeçalho\n",
    "\n",
    "    # Exibe a lista de tickers\n",
    "    for i in tickers[1:]:\n",
    "      print(i)\n",
    "\n",
    "else:\n",
    "    print('Erro ao acessar a página:', response.status_code)\n"
   ]
  }
 ],
 "metadata": {
  "kernelspec": {
   "display_name": "venv",
   "language": "python",
   "name": "python3"
  },
  "language_info": {
   "codemirror_mode": {
    "name": "ipython",
    "version": 3
   },
   "file_extension": ".py",
   "mimetype": "text/x-python",
   "name": "python",
   "nbconvert_exporter": "python",
   "pygments_lexer": "ipython3",
   "version": "3.12.0"
  }
 },
 "nbformat": 4,
 "nbformat_minor": 2
}
